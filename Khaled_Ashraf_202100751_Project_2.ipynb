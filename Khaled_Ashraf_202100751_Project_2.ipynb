{
 "cells": [
  {
   "cell_type": "markdown",
   "metadata": {
    "id": "pgA3KZeW5cXR"
   },
   "source": [
    "# Project#2\n",
    "\n"
   ]
  },
  {
   "cell_type": "markdown",
   "metadata": {
    "id": "FBcvy55Xz3_T"
   },
   "source": [
    "Using only NumPy and Pandas create a Neural Network from scratch(90 pt)\n",
    "<br> Set network architecture as follows:\n",
    "* Implement input, hidden, and output layers concerning input-output shape.\n",
    "* Define activation function.\n",
    "* Implement FeedForward\n",
    "* Implement BackPropagation\n",
    "* Implement Train and Test functions.\n",
    "\n",
    "\n"
   ]
  },
  {
   "cell_type": "markdown",
   "metadata": {
    "id": "JpL3HWZY0v1P"
   },
   "source": [
    "Test your model on both datasets then calculate the confusion matrix and accuracy (10 pt)\n",
    "* IRIS dataset\n",
    "* MNIST Dataset\n"
   ]
  },
  {
   "cell_type": "markdown",
   "metadata": {
    "id": "Duch-dY34OJ0"
   },
   "source": [
    "# Bonus( 5 pt)\n",
    "1- Compare your model with the Sklearn neural network https://scikit-learn.org/stable/modules/neural_networks_supervised.html#.\n",
    "\n",
    "2- Compare your model with the Keras neural network model.\n"
   ]
  },
  {
   "cell_type": "code",
   "execution_count": 2,
   "metadata": {
    "id": "EMoz8-T-zluV"
   },
   "outputs": [],
   "source": [
    "import numpy as np\n",
    "import pandas as pd\n",
    "from sklearn.model_selection import train_test_split\n",
    "from sklearn.datasets import fetch_openml\n",
    "from sklearn.preprocessing import StandardScaler\n",
    "from sklearn.metrics import confusion_matrix, accuracy_score\n"
   ]
  },
  {
   "cell_type": "code",
   "execution_count": 3,
   "metadata": {},
   "outputs": [],
   "source": [
    "def Sigmoid(x):\n",
    "    return 1/(1+np.exp(-x))\n",
    "def SigmoidDerivative(x):\n",
    "    return x * (1 - x)\n",
    "    \n",
    "class NeuralNetwork:\n",
    "    def __init__(self, inputSize, hiddenSize, outputSize):\n",
    "        self.inputSize = inputSize\n",
    "        self.hiddenSize = hiddenSize\n",
    "        self.outputSize = outputSize\n",
    "\n",
    "        self.inputsWeights = np.random.randn(self.inputSize,self.hiddenSize)\n",
    "        self.hiddenWeights = np.random.randn(self.hiddenSize, self.outputSize)\n",
    "        \n",
    "    def Forward(self, inputs):\n",
    "        # first Layer\n",
    "        self.hiddenNet = np.dot(inputs, self.inputsWeights)\n",
    "        self.hiddenOutput = Sigmoid(self.hiddenNet)\n",
    "        # second layer\n",
    "        self.outputNet = np.dot(self.hiddenOutput, self.hiddenWeights)\n",
    "        self.outputOutput = Sigmoid(self.outputNet)\n",
    "        return self.outputOutput\n",
    "        \n",
    "    def BackPropagation(self,learningRate, target,inputs):\n",
    "        error = target - self.outputOutput\n",
    "        outputDelta = SigmoidDerivative(self.outputOutput) * error\n",
    "\n",
    "        hiddenError = np.dot(outputDelta,self.hiddenWeights.T)\n",
    "        hiddenDelta = SigmoidDerivative(self.hiddenOutput) * hiddenError \n",
    "        # update weight of output \n",
    "        self.hiddenWeights += np.dot(np.array(self.hiddenOutput).T ,outputDelta) * learningRate \n",
    "        self.inputsWeights += np.dot(np.array(inputs).T,hiddenDelta) * learningRate\n",
    "        \n",
    "    def train(self, inputs, target, itreations, learningRate):\n",
    "        for i in range(itreations):\n",
    "            # Forward pass\n",
    "            m = self.Forward(inputs)\n",
    "            \n",
    "            # Backward pass\n",
    "            self.BackPropagation(learningRate, target,inputs)\n",
    "\n",
    "    def test(self, inputs):\n",
    "        return np.round(self.Forward(inputs))\n"
   ]
  },
  {
   "cell_type": "code",
   "execution_count": 4,
   "metadata": {},
   "outputs": [
    {
     "name": "stdout",
     "output_type": "stream",
     "text": [
      "4\n",
      "IRIS Dataset:\n",
      "Confusion Matrix:\n",
      "[[19  0  0]\n",
      " [ 0 12  1]\n",
      " [ 0  1 12]]\n",
      "Accuracy: 0.9555555555555556\n",
      "<class 'pandas.core.frame.DataFrame'>\n"
     ]
    }
   ],
   "source": [
    "# IRIS dataset\n",
    "data = pd.read_csv(\"https://archive.ics.uci.edu/ml/machine-learning-databases/iris/iris.data\",\n",
    "                      header=None, names=[\"sepal_length\", \"sepal_width\", \"petal_length\", \"petal_width\", \"class\"])\n",
    "# manipulate data\n",
    "data = data.replace({\"class\": {\"Iris-setosa\": 0, \"Iris-versicolor\": 1, \"Iris-virginica\": 2}})\n",
    "x = data.iloc[:,:-1].values\n",
    "y =  pd.get_dummies(data.iloc[:,-1]).values \n",
    "# split data \n",
    "x_train, x_test, y_train, y_test = train_test_split(x,y,train_size = 0.7, random_state=42)\n",
    "y_test\n",
    "# train model\n",
    "input_size_iris = x_train.shape[1]\n",
    "output_size_iris = y_train.shape[1]\n",
    "hidden_size_iris = 8\n",
    "epochs_iris = 10000\n",
    "learning_rate_iris = 0.01\n",
    "\n",
    "nn_iris = NeuralNetwork(input_size_iris, hidden_size_iris, output_size_iris)\n",
    "nn_iris.train(x_train, y_train, epochs_iris, learning_rate_iris)\n",
    "\n",
    "# Test the model on IRIS dataset\n",
    "y_pred_iris = np.argmax(nn_iris.test(x_test), axis=1) \n",
    "y_true_iris = np.argmax(y_test, axis=1)\n",
    "accuracy_iris = accuracy_score(y_true_iris, y_pred_iris)\n",
    "conf_matrix_iris = confusion_matrix(y_true_iris, y_pred_iris)\n",
    "\n",
    "print(\"IRIS Dataset:\")\n",
    "print(\"Confusion Matrix:\")\n",
    "print(conf_matrix_iris)\n",
    "print(\"Accuracy:\", accuracy_iris)\n"
   ]
  },
  {
   "cell_type": "code",
   "execution_count": null,
   "metadata": {},
   "outputs": [
    {
     "name": "stderr",
     "output_type": "stream",
     "text": [
      "C:\\Users\\khale\\AppData\\Local\\Temp\\ipykernel_18900\\28510125.py:2: RuntimeWarning: overflow encountered in exp\n",
      "  return 1/(1+np.exp(-x))\n"
     ]
    }
   ],
   "source": [
    "# Load MNIST dataset using fetch_openml\n",
    "mnist = fetch_openml(\"mnist_784\", version=1, return_X_y=True, as_frame=False, parser=\"pandas\")\n",
    "X, y = mnist[0], mnist[1]\n",
    "\n",
    "# Split data\n",
    "X_train_mnist, X_test_mnist, y_train_mnist, y_test_mnist = train_test_split(X, y, test_size=0.2, random_state=42)\n",
    "\n",
    "# Create and train the neural network for MNIST dataset\n",
    "input_size_mnist = X_train_mnist.shape[1]\n",
    "output_size_mnist = 10  # Number of classes in MNIST dataset\n",
    "hidden_size_mnist = 128\n",
    "epochs_mnist = 1000\n",
    "learning_rate_mnist = 0.0001\n",
    "\n",
    "nn_mnist = NeuralNetwork(input_size_mnist, hidden_size_mnist, output_size_mnist)\n",
    "nn_mnist.train(X_train_mnist, pd.get_dummies(y_train_mnist).values, epochs_mnist, learning_rate_mnist)\n",
    "\n",
    "# Test the model on MNIST dataset\n",
    "y_pred_mnist = np.argmax(nn_mnist.test(X_test_mnist), axis=1)\n",
    "accuracy_mnist = accuracy_score(y_test_mnist.astype(int), y_pred_mnist)\n",
    "conf_matrix_mnist = confusion_matrix(y_test_mnist.astype(int), y_pred_mnist)\n",
    "\n",
    "print(\"\\nMNIST Dataset:\")\n",
    "print(\"Confusion Matrix:\")\n",
    "print(conf_matrix_mnist)\n",
    "print(\"Accuracy:\", accuracy_mnist)"
   ]
  },
  {
   "cell_type": "code",
   "execution_count": null,
   "metadata": {},
   "outputs": [],
   "source": []
  },
  {
   "cell_type": "code",
   "execution_count": null,
   "metadata": {},
   "outputs": [],
   "source": []
  },
  {
   "cell_type": "code",
   "execution_count": null,
   "metadata": {},
   "outputs": [],
   "source": []
  }
 ],
 "metadata": {
  "colab": {
   "provenance": []
  },
  "kernelspec": {
   "display_name": "Python 3 (ipykernel)",
   "language": "python",
   "name": "python3"
  },
  "language_info": {
   "codemirror_mode": {
    "name": "ipython",
    "version": 3
   },
   "file_extension": ".py",
   "mimetype": "text/x-python",
   "name": "python",
   "nbconvert_exporter": "python",
   "pygments_lexer": "ipython3",
   "version": "3.8.6"
  }
 },
 "nbformat": 4,
 "nbformat_minor": 4
}
